{
 "cells": [
  {
   "cell_type": "markdown",
   "id": "7719284b",
   "metadata": {},
   "source": [
    "# D Parameter Sweep Analysis\n",
    "\n",
    "analyze how projection dimension d affects model performance and stability\n"
   ]
  },
  {
   "cell_type": "code",
   "execution_count": 1,
   "id": "6aaed5cb",
   "metadata": {},
   "outputs": [],
   "source": [
    "import sys\n",
    "sys.path.append('..')\n",
    "\n",
    "import numpy as np\n",
    "import torch\n",
    "import matplotlib.pyplot as plt\n",
    "from src.experiments import run_sweep_d_agg, repeat_spherical_runs_for_d\n",
    "from src.training import run_exact\n",
    "from src.config import TrainCfg\n",
    "from src.kernels import SM_kernel\n",
    "from src.utils import plot_posteriors_auto\n"
   ]
  },
  {
   "cell_type": "markdown",
   "id": "8f2ada2d",
   "metadata": {},
   "source": [
    "## Generate Toy Data\n"
   ]
  },
  {
   "cell_type": "code",
   "execution_count": 2,
   "id": "455886ab",
   "metadata": {},
   "outputs": [
    {
     "name": "stdout",
     "output_type": "stream",
     "text": [
      "train: 700, test: 300\n"
     ]
    }
   ],
   "source": [
    "# generate toy data\n",
    "torch.manual_seed(0)\n",
    "np.random.seed(0)\n",
    "N = 1000\n",
    "x = 100 * np.random.rand(N) + 0.1 * np.random.randn(N)\n",
    "y = 20 * np.cos(1.5 * x) * np.cos(0.1 * x) + 0.1 * np.random.randn(N)\n",
    "x_plot = np.linspace(0, 100, 200)\n",
    "\n",
    "n_train = int(0.7*N)\n",
    "\n",
    "x_train = torch.tensor(x[:n_train], dtype=torch.float32).unsqueeze(-1)\n",
    "y_train = torch.tensor(y[:n_train], dtype=torch.float32)\n",
    "x_test = torch.tensor(x[n_train:], dtype=torch.float32).unsqueeze(-1)\n",
    "y_test = torch.tensor(y[n_train:], dtype=torch.float32)\n",
    "\n",
    "print(f\"train: {len(x_train)}, test: {len(x_test)}\")\n"
   ]
  },
  {
   "cell_type": "markdown",
   "id": "fff58e7c",
   "metadata": {},
   "source": [
    "## Run Exact GP Baseline\n"
   ]
  },
  {
   "cell_type": "code",
   "execution_count": 3,
   "id": "987515e4",
   "metadata": {},
   "outputs": [
    {
     "name": "stdout",
     "output_type": "stream",
     "text": [
      "exact GP baseline - RMSE: 0.0982, R2: 0.9999\n"
     ]
    }
   ],
   "source": [
    "# train once for baseline lines\n",
    "res_exact = run_exact(\n",
    "    x_train, y_train, x_test, y_test,\n",
    "    kernel=SM_kernel(1, 1, y_std=float(torch.std(y_train))),\n",
    "    cfg=TrainCfg(verbose=False),\n",
    "    init_from_data=False\n",
    ")\n",
    "\n",
    "print(f\"exact GP baseline - RMSE: {res_exact['metrics']['RMSE']:.4f}, R2: {res_exact['metrics']['R2']:.4f}\")\n"
   ]
  },
  {
   "cell_type": "markdown",
   "id": "26dc4800",
   "metadata": {},
   "source": [
    "## Sweep Over D Values\n"
   ]
  },
  {
   "cell_type": "code",
   "execution_count": 4,
   "id": "808229f8",
   "metadata": {},
   "outputs": [
    {
     "name": "stderr",
     "output_type": "stream",
     "text": [
      "100%|██████████| 8/8 [01:04<00:00,  8.02s/it]\n"
     ]
    },
    {
     "name": "stdout",
     "output_type": "stream",
     "text": [
      "     RMSE_mean  RMSE_std   R2_mean    R2_std   NLPD_mean    NLPD_std  \\\n",
      "d                                                                      \n",
      "10    6.697012  5.701526  0.290495  0.660501  188.934521  191.020812   \n",
      "20    1.023826  2.687826  0.927653  0.227627    1.349597    3.516450   \n",
      "50    2.045852  3.440192  0.858290  0.374157   22.518303   68.941913   \n",
      "100   0.290693  0.187748  0.998885  0.001478    0.400909    0.173287   \n",
      "200   0.824347  1.038934  0.984194  0.029879    0.668395    0.518992   \n",
      "300   0.267166  0.153524  0.999112  0.000917    0.500585    0.184372   \n",
      "400   0.485779  0.852044  0.991491  0.024952    0.572621    0.412404   \n",
      "500   0.352299  0.321244  0.997919  0.003801    0.551224    0.248442   \n",
      "\n",
      "     time_sec_mean  time_sec_std  \n",
      "d                                 \n",
      "10        0.455570      0.207289  \n",
      "20        0.519115      0.208442  \n",
      "50        0.513021      0.207940  \n",
      "100       0.505434      0.201886  \n",
      "200       0.887194      0.473426  \n",
      "300       0.968247      0.549162  \n",
      "400       1.308005      0.728035  \n",
      "500       1.185876      0.577557  \n",
      "[sweep-d agg] best d by RMSE_mean: 300 (RMSE=0.2672±0.1535, R2=0.9991±0.0009, NLPD=0.5006±0.1844, time=0.97±0.55s)\n"
     ]
    }
   ],
   "source": [
    "# sweep and aggregate\n",
    "d_list = [10, 20, 50, 100, 200, 300, 400, 500]\n",
    "df_agg, reps_for_best, runs_raw = run_sweep_d_agg(\n",
    "    x_train, y_train, x_test, y_test,\n",
    "    d_list=d_list,\n",
    "    n_repeats=10,\n",
    "    num_mixtures=1,\n",
    "    cfg=TrainCfg(max_iter=500, patience=40, lr=0.05, verbose=False),\n",
    "    init_hyps_data=False,\n",
    "    res_exact=res_exact,\n",
    "    res_svgp=None,\n",
    "    savepath='../results/d_sweep_metrics.png',\n",
    "    xscale_log=False\n",
    ")\n"
   ]
  },
  {
   "cell_type": "markdown",
   "id": "384cc7f7",
   "metadata": {},
   "source": [
    "## Visualize Best D\n"
   ]
  },
  {
   "cell_type": "code",
   "execution_count": null,
   "id": "97919cb0",
   "metadata": {},
   "outputs": [],
   "source": [
    "# visuali`e posterior for the best d using one representative run\n",
    "best_d = int(df_agg['RMSE_mean'].idxmin())\n",
    "print(f\"best d: {best_d}\")\n",
    "\n",
    "from src.training import predict_svgp\n",
    "\n",
    "_ = plot_posteriors_auto(\n",
    "    D=x_train.shape[1],\n",
    "    res_exact=res_exact,\n",
    "    res_proj=reps_for_best[best_d],  # first repeat at best d\n",
    "    res_svgp=None,\n",
    "    x_test=x_test, y_test=y_test, x_plot=x_plot,\n",
    "    d_proj=best_d,\n",
    "    predict_svgp_fn=predict_svgp,\n",
    "    plot1d_fn=None,\n",
    "    add_svgp_heatmap=False,\n",
    "    savepath=None\n",
    ")\n"
   ]
  },
  {
   "cell_type": "markdown",
   "id": "bd1df62f",
   "metadata": {},
   "source": [
    "## Hyperparameter Variability Analysis\n"
   ]
  },
  {
   "cell_type": "code",
   "execution_count": null,
   "id": "c0d36c3b",
   "metadata": {},
   "outputs": [],
   "source": [
    "# analyse hyperparameter stability for a fixed d\n",
    "df_hyp, df_metric, reps = repeat_spherical_runs_for_d(\n",
    "    x_train, y_train, x_test, y_test,\n",
    "    d=200,\n",
    "    k=30,\n",
    "    num_mixtures=1,\n",
    "    cfg=TrainCfg(max_iter=500, patience=40, lr=0.05, verbose=False),\n",
    "    init_hyps_data=False,\n",
    "    res_exact=res_exact,\n",
    "    savepath_hyp='../results/hyp_box_d200.png',\n",
    "    savepath_nlpd='../results/nlpd_box_d200.png'\n",
    ")\n"
   ]
  }
 ],
 "metadata": {
  "kernelspec": {
   "display_name": "base",
   "language": "python",
   "name": "python3"
  },
  "language_info": {
   "codemirror_mode": {
    "name": "ipython",
    "version": 3
   },
   "file_extension": ".py",
   "mimetype": "text/x-python",
   "name": "python",
   "nbconvert_exporter": "python",
   "pygments_lexer": "ipython3",
   "version": "3.11.5"
  }
 },
 "nbformat": 4,
 "nbformat_minor": 5
}
